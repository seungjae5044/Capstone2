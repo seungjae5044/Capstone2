{
 "cells": [
  {
   "cell_type": "code",
   "execution_count": 1,
   "id": "cc69360e",
   "metadata": {},
   "outputs": [],
   "source": [
    "from transformers import AutoTokenizer, AutoModelForCausalLM\n",
    "\n",
    "tokenizer = AutoTokenizer.from_pretrained(\"google/gemma-3-270m\")\n",
    "model = AutoModelForCausalLM.from_pretrained(\"google/gemma-3-270m\",\n",
    "    device_map=\"auto\"\n",
    ")"
   ]
  },
  {
   "cell_type": "code",
   "execution_count": null,
   "id": "3c17b1b0",
   "metadata": {},
   "outputs": [],
   "source": [
    "prompt = \"Give me a short introduction to large language model.\"\n",
    "model_inputs = tokenizer([prompt], return_tensors=\"pt\").to(model.device)"
   ]
  },
  {
   "cell_type": "code",
   "execution_count": null,
   "id": "df3728bb",
   "metadata": {},
   "outputs": [
    {
     "data": {
      "text/plain": [
       "'It can be a short answer to say \"yes\". It\\'s a chatbot.\\n\\nA human being who is able to understand language much better than computers.\\n\\nA lot of people think language models are just like a person.\\n\\nThey make it seem like your brain is a robot. The language model gives you the best of both worlds.\\n\\nThe world needs a new language model. If you say this model isn\\'t powerful enough, that\\'s a problem.\\n\\nWhy is technology so powerful?\\n\\nWhy do I have to explain to you?\\n\\nCan you use it to teach us something?\\n\\nWhat is it?\\n\\nA robot that can interpret our intentions. It can teach us about people from different cultures and different perspectives.\\n\\nHow is this possible?\\n\\nThis machine gives an answer to the question. This is the model.\\n\\nIt can create your image. This is the model.\\n\\nIt can find your phone number. This is the model.\\n\\nIt can search'"
      ]
     },
     "execution_count": 3,
     "metadata": {},
     "output_type": "execute_result"
    }
   ],
   "source": [
    "generated_ids = model.generate(\n",
    "    **model_inputs,\n",
    "    max_new_tokens=200\n",
    ")\n",
    "output_ids = generated_ids[0][len(model_inputs.input_ids[0]):].tolist()\n",
    "\n",
    "content = tokenizer.decode(output_ids, skip_special_tokens=True).strip(\"\\n\")\n",
    "content"
   ]
  },
  {
   "cell_type": "code",
   "execution_count": 4,
   "id": "8240a517",
   "metadata": {},
   "outputs": [
    {
     "name": "stdout",
     "output_type": "stream",
     "text": [
      "It can be a short answer to say \"yes\". It's a chatbot.\n",
      "\n",
      "A human being who is able to understand language much better than computers.\n",
      "\n",
      "A lot of people think language models are just like a person.\n",
      "\n",
      "They make it seem like your brain is a robot. The language model gives you the best of both worlds.\n",
      "\n",
      "The world needs a new language model. If you say this model isn't powerful enough, that's a problem.\n",
      "\n",
      "Why is technology so powerful?\n",
      "\n",
      "Why do I have to explain to you?\n",
      "\n",
      "Can you use it to teach us something?\n",
      "\n",
      "What is it?\n",
      "\n",
      "A robot that can interpret our intentions. It can teach us about people from different cultures and different perspectives.\n",
      "\n",
      "How is this possible?\n",
      "\n",
      "This machine gives an answer to the question. This is the model.\n",
      "\n",
      "It can create your image. This is the model.\n",
      "\n",
      "It can find your phone number. This is the model.\n",
      "\n",
      "It can search\n"
     ]
    }
   ],
   "source": [
    "print(content)"
   ]
  }
 ],
 "metadata": {
  "kernelspec": {
   "display_name": "base",
   "language": "python",
   "name": "python3"
  },
  "language_info": {
   "codemirror_mode": {
    "name": "ipython",
    "version": 3
   },
   "file_extension": ".py",
   "mimetype": "text/x-python",
   "name": "python",
   "nbconvert_exporter": "python",
   "pygments_lexer": "ipython3",
   "version": "3.12.7"
  }
 },
 "nbformat": 4,
 "nbformat_minor": 5
}
